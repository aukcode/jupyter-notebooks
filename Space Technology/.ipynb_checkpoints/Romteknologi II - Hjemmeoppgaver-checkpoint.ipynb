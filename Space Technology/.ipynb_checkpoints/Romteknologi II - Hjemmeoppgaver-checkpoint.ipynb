{
 "cells": [
  {
   "cell_type": "markdown",
   "metadata": {},
   "source": [
    "# Romteknologi II - Hjemmeoppgaver April 2018"
   ]
  },
  {
   "cell_type": "markdown",
   "metadata": {},
   "source": [
    "## Skrevet av Øyvind Aukner"
   ]
  },
  {
   "cell_type": "markdown",
   "metadata": {},
   "source": [
    "## Oppgave 1"
   ]
  },
  {
   "cell_type": "markdown",
   "metadata": {},
   "source": [
    "1. Solen gjennomgår sykler på cirka 11 år. Gjennom grundig observasjon kan man forutsi når solen vil være på sitt mest, og minst aktive. Dette har konsekvenser for hvor mye stråling, og da også forstyrrelse som vil ramme Jorda. Generelt \"romvær\" er nyttig viten når man skal forvalte presise instrumenter plassert I baner og overgangsbaner.\n",
    "2. Gjennom tidlig historie har stjerne- og spesielt solobservasjon latt sapiens forutsi årstider og andre klimatiske trender. Det er minst like sant den dag i dag, bare på mer detaljnivå.\n",
    "3. Sola er en ganske gjennomsnittlig stjerne. Ved å observere den kan vi lære mye om stjerner generelt i rommet."
   ]
  },
  {
   "cell_type": "markdown",
   "metadata": {},
   "source": [
    "## Oppgave 2"
   ]
  },
  {
   "cell_type": "markdown",
   "metadata": {},
   "source": [
    "### L1 Lagrange punkt\n",
    "L1 er ett av totalt fem punkt hvor man finner balanse mellom to store gravitasjonsbrønner. Som oftest snakker man om Jorda og Sola. I SOHO's tilfelle er L1 det punktet innenfor Jorda, inn mot Sola. For å intuetivt forstå punktet, kan man se for seg en balansegang. Nærme Jorda, faller man mot Jorda, og nærme Sola, faller man mot Sola. Ett eller annet sted I mellom, er det balanse og man faller i teorien ingensteder. Dette kalles L1 og er 1.5x10^6Km fra jordsentrum. Lagrangepunktene er i praksis ikke helt stabile ettersom månen og andre påvirker banen. Derfor må man i med noen få måneders mellomrom gjennopprette banen ved bruk av noe drivstoff. \n",
    "\n",
    "SOHO ble plassert her for å gi et uendrende perspektiv i Solas retning, som er det samme som oss her på jorda.\n",
    "\n",
    "### SOHO's oppdrag\n",
    "SOHO's oppdrag var å studere Sola, men har siden også oppdaget over 3000 kometer. Den hadde tre hovedoppdag:\n",
    "1. se på Solas yttre lag, herunder coronaen samt opphavet til solvind\n",
    "2. Studere egenskaper til L1 \n",
    "3. Prøve å finne ut av Solas struktur. "
   ]
  },
  {
   "cell_type": "markdown",
   "metadata": {},
   "source": [
    "## Oppgave 3"
   ]
  },
  {
   "cell_type": "markdown",
   "metadata": {},
   "source": [
    "Kommunikasjon med SOHO datt ut, og satellitten gikk inn i Emergency Sun Reacquisition (ESR) mode. Den endte opp med en liten spinn og det tok mange dager før man var i stand til å lokalisere og gjennnoppta forbindelse med satellitten. Gjennom ren og skjær flaks tillot rotasjonen noe sollys å treffe panelene i hver periode noe som tillot et vågalt og suksserikt redningsforsøk i de påfølgende ukene. Alle 12 instrumenter for datasamling ble brukbare igjen, mens kontrollgyroene aldri kom tilbake. Dette førte til en tidsperiode med dyre rakettdytteaktiveringer (thruster burns) før ekspertgruppa var i stand til å implimentere gyroløs kontroll 1.februar 1999 ved hjelp av programvare. Denne teknikken var banebrytene og har senere inspirert andre romfartøy."
   ]
  },
  {
   "cell_type": "markdown",
   "metadata": {},
   "source": [
    "## Oppgave 4"
   ]
  },
  {
   "cell_type": "markdown",
   "metadata": {},
   "source": [
    "Vi starter med å legge inn et par bibliotek som lar oss regne med logaritmer og trigonometri, samt bruke benevning i fysiske størrelser"
   ]
  },
  {
   "cell_type": "code",
   "execution_count": 1,
   "metadata": {},
   "outputs": [],
   "source": [
    "import math, physics"
   ]
  },
  {
   "cell_type": "code",
   "execution_count": 2,
   "metadata": {},
   "outputs": [],
   "source": [
    "from physics import Q"
   ]
  },
  {
   "cell_type": "code",
   "execution_count": 3,
   "metadata": {},
   "outputs": [
    {
     "name": "stdout",
     "output_type": "stream",
     "text": [
      "Unit calculation and physics extensions activated.\n"
     ]
    }
   ],
   "source": [
    "%load_ext physics"
   ]
  },
  {
   "cell_type": "code",
   "execution_count": 4,
   "metadata": {},
   "outputs": [],
   "source": [
    "π, c = physics._constants[0][1], physics._constants[2][1] # PI, Lysets hastighet i vakum"
   ]
  },
  {
   "cell_type": "markdown",
   "metadata": {},
   "source": [
    "Først må vi legge inn verdiene og konvertere til SI"
   ]
  },
  {
   "cell_type": "code",
   "execution_count": 5,
   "metadata": {},
   "outputs": [],
   "source": [
    "f, D = (2.25 GHz).base, Q(1.5*10**6, 'km').base # .base operatoren konverterer til SI hhv. Hz og m"
   ]
  },
  {
   "cell_type": "code",
   "execution_count": 6,
   "metadata": {},
   "outputs": [],
   "source": [
    "λ = c/f"
   ]
  },
  {
   "cell_type": "code",
   "execution_count": 7,
   "metadata": {
    "scrolled": false
   },
   "outputs": [
    {
     "data": {
      "text/plain": [
       "(2.25e+09 1/s, 1.5e+09 m, 2.9979246e+08 m/s, 0.13324109 m/1)"
      ]
     },
     "execution_count": 7,
     "metadata": {},
     "output_type": "execute_result"
    }
   ],
   "source": [
    "f, D, c, λ"
   ]
  },
  {
   "cell_type": "markdown",
   "metadata": {},
   "source": [
    "Formelen for å regne ut **Free Space Loss** er: \n",
    "> <font size=\"5px\">$L_{0} = (\\frac{4πD}{λ})^{2}$</font>\n"
   ]
  },
  {
   "cell_type": "code",
   "execution_count": 8,
   "metadata": {},
   "outputs": [],
   "source": [
    "L0 = (4*π*D/λ)**2"
   ]
  },
  {
   "cell_type": "code",
   "execution_count": 9,
   "metadata": {},
   "outputs": [
    {
     "data": {
      "text/plain": [
       "2.0013630459705637e+22"
      ]
     },
     "execution_count": 9,
     "metadata": {},
     "output_type": "execute_result"
    }
   ],
   "source": [
    "L0"
   ]
  },
  {
   "cell_type": "markdown",
   "metadata": {},
   "source": [
    "For å få **verdien i desibel** må vi ta: \n",
    "> <font size=\"5px\">$10 \\times Log_{10}(Lineærverdi)$:</font>"
   ]
  },
  {
   "cell_type": "code",
   "execution_count": 10,
   "metadata": {},
   "outputs": [],
   "source": [
    "L0_db = 10*math.log10(L0)"
   ]
  },
  {
   "cell_type": "code",
   "execution_count": 11,
   "metadata": {},
   "outputs": [
    {
     "data": {
      "text/plain": [
       "223.01325876522426"
      ]
     },
     "execution_count": 11,
     "metadata": {},
     "output_type": "execute_result"
    }
   ],
   "source": [
    "L0_db"
   ]
  },
  {
   "cell_type": "markdown",
   "metadata": {},
   "source": [
    "> ### **Free Space Loss for SOHO er 223 dB**"
   ]
  },
  {
   "cell_type": "markdown",
   "metadata": {},
   "source": [
    "## Oppgave 5"
   ]
  },
  {
   "cell_type": "markdown",
   "metadata": {},
   "source": [
    "Systemtemperatur har mye å si for radiostøy. Antennetemperatur er en parameter som beskriver hvor mye støy en antenne produserer i et gitt miljø. Dette kalles ofte antennesøty temperatur (antenna noise temperature) og er ikke et mål på antennas fysiske temperatur. Derimot avhenger den av dens _\"gain pattern\"_ og det termiske miljøet den er utplassert i. \n",
    "\n",
    "Opphavet er at temperaturen er en temperaturen er temperaturen på en hypotesisk resistor med input av ideel _\"noise free receiver\"_ som vil generere samme _\"output noise power per unit bandwidth\"_ som antennen ved en spesifikk frekvens.\n",
    "\n",
    "For å bedre signalet ønsker vi å redusere systemtemperaturen. Effekten denne har er altså mer negativ ved høyere verdier."
   ]
  },
  {
   "cell_type": "markdown",
   "metadata": {},
   "source": [
    "## Oppgave 6"
   ]
  },
  {
   "cell_type": "markdown",
   "metadata": {},
   "source": [
    "Kort sagt, fordi satelliten ikke er akuratt i L1 og Sola er ekstremt mye lenger unna satelitten enn det Jorda er. \n",
    "\n",
    "Det lange svaret er at Sola er en enorm kilde til termisk stråling og radiostøy. Det vil si at strålespekteret utstrålt av Sola også dekker båndet brukt av satellitten. En eksakt L1 posisjon ville altså vært vannskelig å kommunisere med fordi for å peke en mottakerantenne på jorda mot SOHO, måtte vi også pekt rett på Sola. Men om vi lar satellitten ta en liten omvei rundt L1 unngår vi dette problemet. SOHO er derfor ikke akuratt på L1, men i en såkalt Lissajous bane rundt den som vist i figuren under. Denne banen har en periode på seks måneder, mens rundt Sola går det naturligvis et år per periode. \n",
    "\n",
    "![alt text][SOHO mission schematic]\n",
    "\n",
    "[SOHO mission schematic]: http://images.slideplayer.com/25/7826609/slides/slide_6.jpg \"Logo Title Text 2\""
   ]
  },
  {
   "cell_type": "markdown",
   "metadata": {},
   "source": [
    "## Oppgave 7"
   ]
  },
  {
   "cell_type": "markdown",
   "metadata": {},
   "source": [
    "## Transmitter"
   ]
  },
  {
   "cell_type": "markdown",
   "metadata": {},
   "source": [
    "Først noen ingangsverdier:"
   ]
  },
  {
   "cell_type": "code",
   "execution_count": 12,
   "metadata": {},
   "outputs": [],
   "source": [
    "Pt, antenna_diameter, antenna_efficiency = Q(3.2, 'W'),  Q(0.8, 'm'), 0.8 # Pt er Transmitter power"
   ]
  },
  {
   "cell_type": "code",
   "execution_count": 13,
   "metadata": {},
   "outputs": [],
   "source": [
    "A = π*(antenna_diameter/2)**2 # Aperture"
   ]
  },
  {
   "cell_type": "code",
   "execution_count": 14,
   "metadata": {},
   "outputs": [],
   "source": [
    "Pt_db = 10*math.log10(Pt.value) # Omregnet til desibel"
   ]
  },
  {
   "cell_type": "markdown",
   "metadata": {},
   "source": [
    "Formelen for å omregne **antenna gain** er: \n",
    "> <font size=\"5px\">$Gt = \\frac{4πA}{λ^{2}}$</font>\n",
    "\n"
   ]
  },
  {
   "cell_type": "code",
   "execution_count": 15,
   "metadata": {},
   "outputs": [],
   "source": [
    "Gt = antenna_efficiency * 4*π*A/λ**2"
   ]
  },
  {
   "cell_type": "code",
   "execution_count": 16,
   "metadata": {},
   "outputs": [],
   "source": [
    "Gt_db = 10*math.log10(Gt)"
   ]
  },
  {
   "cell_type": "code",
   "execution_count": 17,
   "metadata": {},
   "outputs": [
    {
     "name": "stdout",
     "output_type": "stream",
     "text": [
      "Antenna gain i lineært: 284.6382998713691\n",
      "Antenna gain i desibel: 24.542933367309683 db\n"
     ]
    }
   ],
   "source": [
    "print('Antenna gain i lineært: ' + str(Gt) + '\\nAntenna gain i desibel: ' + str(Gt_db) + ' db')"
   ]
  },
  {
   "cell_type": "markdown",
   "metadata": {},
   "source": [
    "Formelen for å regne ut **EiRP** er:\n",
    "> <font size=\"5px\">$Pt \\times Gt$</font>"
   ]
  },
  {
   "cell_type": "code",
   "execution_count": 18,
   "metadata": {},
   "outputs": [],
   "source": [
    "EiRP = Pt * Gt"
   ]
  },
  {
   "cell_type": "code",
   "execution_count": 19,
   "metadata": {},
   "outputs": [],
   "source": [
    "EiRP_db = 10*math.log10(EiRP.value)"
   ]
  },
  {
   "cell_type": "code",
   "execution_count": 20,
   "metadata": {
    "scrolled": true
   },
   "outputs": [
    {
     "name": "stdout",
     "output_type": "stream",
     "text": [
      "EiRP i lineært: 910.84256 W\n",
      "EiRP i desibel: 29.594433150508745 db\n"
     ]
    }
   ],
   "source": [
    "print('EiRP i lineært: ' + str(EiRP) + '\\nEiRP i desibel: ' + str(EiRP_db) + ' db')"
   ]
  },
  {
   "cell_type": "markdown",
   "metadata": {},
   "source": [
    "## Receiver"
   ]
  },
  {
   "cell_type": "code",
   "execution_count": 21,
   "metadata": {},
   "outputs": [],
   "source": [
    "antenna_diameter, antenna_efficiency = Q(26, 'm'),  0.9"
   ]
  },
  {
   "cell_type": "code",
   "execution_count": 22,
   "metadata": {},
   "outputs": [],
   "source": [
    "A = π*(antenna_diameter/2)**2 # Aperture"
   ]
  },
  {
   "cell_type": "markdown",
   "metadata": {},
   "source": [
    "Formelen for å regne ut **antenna gain** er:\n",
    "> <font size=\"5px\">$G_{r} = n \\times \\frac{4πA}{λ^{2}}$</font>\n",
    "\n",
    "Hvor n er antenna efficiency og A er aperture"
   ]
  },
  {
   "cell_type": "code",
   "execution_count": 23,
   "metadata": {},
   "outputs": [],
   "source": [
    "Gr = antenna_efficiency * 4*π*A/λ**2"
   ]
  },
  {
   "cell_type": "code",
   "execution_count": 24,
   "metadata": {},
   "outputs": [],
   "source": [
    "Gr_db = 10*math.log10(Gr)"
   ]
  },
  {
   "cell_type": "code",
   "execution_count": 25,
   "metadata": {},
   "outputs": [
    {
     "name": "stdout",
     "output_type": "stream",
     "text": [
      "Antenna gain i lineært: 338230.3547690253\n",
      "Antenna gain i desibel: 55.29212581136099 db\n"
     ]
    }
   ],
   "source": [
    "print('Antenna gain i lineært: ' + str(Gr) + '\\nAntenna gain i desibel: ' + str(Gr_db) + ' db')"
   ]
  },
  {
   "cell_type": "markdown",
   "metadata": {},
   "source": [
    "Formelen for **Recieved Power** er: \n",
    "> <font size=\"5px\">$P_{r} = \\frac{EiRP \\times G_{r} }{ L_{0}}$</font>\n",
    "    \n",
    "Alle verdier er i desibel."
   ]
  },
  {
   "cell_type": "code",
   "execution_count": 26,
   "metadata": {},
   "outputs": [],
   "source": [
    "Pr_db = EiRP_db * Gr_db / L0_db"
   ]
  },
  {
   "cell_type": "code",
   "execution_count": 27,
   "metadata": {
    "scrolled": true
   },
   "outputs": [
    {
     "name": "stdout",
     "output_type": "stream",
     "text": [
      "Recieved Power er 7.337407336827839 dB\n"
     ]
    }
   ],
   "source": [
    "print('Recieved Power er ' + str(Pr_db) + ' dB')"
   ]
  },
  {
   "cell_type": "markdown",
   "metadata": {},
   "source": [
    "For å gå videre å finne noise power density og carrier to noise ratio trenger vi først å vite båndbredden. I slide 63 fra Satellittkommunikasjonsforelesningen står det at:\n",
    "\n",
    " - S/N = EsB/N0B\n",
    " - S/N er det samme som C/N\n",
    " - Da blir C/N0 = Es*B/N0 = Eb*mB/N0\n",
    "\n",
    "Vi kan da sette opp følgende uttrykk:\n",
    "\n",
    "> <font size=\"5px\">$\\frac{E_{b}mB}{N_{0}} = EiRP - L_{0} + \\frac{Gr}{T} - k - B - L_{a}$</font>\n",
    "\n",
    "m er et mål for koding, og siden vi nå skal se bort i fra BPKS så antar vi denne til 1. Den faller med andre ord bort. Hvis vi videre løser for B får vi:\n",
    "\n",
    "> <font size=\"5px\">$B = \\frac{EiRP - L_{0} + \\frac{Gr}{T} - k - L_{a}}{E_{b}/N_{0} + 1}$</font>\n",
    "\n",
    "Alle disse verdiene er kjent. Så nå gjenstår kun å legge verdier og finne B:"
   ]
  },
  {
   "cell_type": "code",
   "execution_count": 28,
   "metadata": {},
   "outputs": [],
   "source": [
    "k, T = physics._constants[13][1], Q(78, 'K') # boltzman's constant, Systemtemperatur"
   ]
  },
  {
   "cell_type": "code",
   "execution_count": 29,
   "metadata": {},
   "outputs": [],
   "source": [
    "k_db, T_db, Eb_N0_db = 10*math.log10(k.value), 10*math.log10(T.value), 15"
   ]
  },
  {
   "cell_type": "code",
   "execution_count": 30,
   "metadata": {},
   "outputs": [],
   "source": [
    "La_db = 10 # Additional losses"
   ]
  },
  {
   "cell_type": "code",
   "execution_count": 31,
   "metadata": {},
   "outputs": [],
   "source": [
    "B_db = (EiRP_db - L0_db + (Gr_db/T_db) - k_db - La_db) / (Eb_N0_db + 1)"
   ]
  },
  {
   "cell_type": "code",
   "execution_count": 32,
   "metadata": {},
   "outputs": [],
   "source": [
    "B = Q(10**(B_db/10), 'Hz') # Omregner til lineært"
   ]
  },
  {
   "cell_type": "code",
   "execution_count": 33,
   "metadata": {},
   "outputs": [
    {
     "data": {
      "text/plain": [
       "(1.4984468 Hz, 1.7564133042231056)"
      ]
     },
     "execution_count": 33,
     "metadata": {},
     "output_type": "execute_result"
    }
   ],
   "source": [
    "B, B_db"
   ]
  },
  {
   "cell_type": "markdown",
   "metadata": {},
   "source": [
    "Formelen for å regne ut **Noise power density** er:\n",
    "> <font size=\"5px\">$N = kTB$</font>\n",
    "\n",
    "Hvor k er boltzman's konstant, T er systemtemperatur og B er båndbredden"
   ]
  },
  {
   "cell_type": "code",
   "execution_count": 34,
   "metadata": {},
   "outputs": [
    {
     "data": {
      "text/plain": [
       "(1.3806488e-23 J/K,\n",
       " -228.59916780233414,\n",
       " 78 K,\n",
       " 18.920946026904804,\n",
       " 1.4984468 Hz)"
      ]
     },
     "execution_count": 34,
     "metadata": {},
     "output_type": "execute_result"
    }
   ],
   "source": [
    "k, k_db, T, T_db, B"
   ]
  },
  {
   "cell_type": "code",
   "execution_count": 35,
   "metadata": {},
   "outputs": [],
   "source": [
    "N = k * T * B # Noise power density"
   ]
  },
  {
   "cell_type": "code",
   "execution_count": 36,
   "metadata": {},
   "outputs": [],
   "source": [
    "N_db = 10*math.log10(N.value)"
   ]
  },
  {
   "cell_type": "code",
   "execution_count": 37,
   "metadata": {},
   "outputs": [
    {
     "data": {
      "text/plain": [
       "-207.92180847120622"
      ]
     },
     "execution_count": 37,
     "metadata": {},
     "output_type": "execute_result"
    }
   ],
   "source": [
    "N_db"
   ]
  },
  {
   "cell_type": "markdown",
   "metadata": {},
   "source": [
    "**Carrier to noise power density ratio C/N0** er det samme som signal to noise ratio og regnes ut for desibel på følgende måte S/N_db = EiRP-L0 + G/T - k - B - La. Alle verdier er i desibel"
   ]
  },
  {
   "cell_type": "code",
   "execution_count": 38,
   "metadata": {},
   "outputs": [],
   "source": [
    "SNR_db = EiRP_db - L0_db + (Gr_db/T_db) - k_db - B_db - La_db # SNR er signal to noise ratio"
   ]
  },
  {
   "cell_type": "code",
   "execution_count": 39,
   "metadata": {},
   "outputs": [
    {
     "data": {
      "text/plain": [
       "26.346199563346588"
      ]
     },
     "execution_count": 39,
     "metadata": {},
     "output_type": "execute_result"
    }
   ],
   "source": [
    "SNR_db"
   ]
  },
  {
   "cell_type": "markdown",
   "metadata": {},
   "source": [
    "Når m = 1 så vil det si 1 bit / symbol, altså er båndbredde og dataoverføringshastighet det samme. Vi får da en data_rate lik B:\n"
   ]
  },
  {
   "cell_type": "code",
   "execution_count": 40,
   "metadata": {},
   "outputs": [],
   "source": [
    "data_rate = B"
   ]
  },
  {
   "cell_type": "code",
   "execution_count": 41,
   "metadata": {
    "scrolled": true
   },
   "outputs": [
    {
     "name": "stdout",
     "output_type": "stream",
     "text": [
      "0.0014984468062463137 kbit/s\n"
     ]
    }
   ],
   "source": [
    "print(str(data_rate.value * 10**-3) + ' kbit/s')"
   ]
  },
  {
   "cell_type": "markdown",
   "metadata": {},
   "source": [
    "Vi får altså en overføringshastighet på 0.001 kbit/s. Dette er utrolig lavt, og stemmer sannsynligvis ikke. Jeg mistenker at det er blitt gjort noe feil i utregning av båndbredden. Ofte lett å surre med lineære og desibel verdier. "
   ]
  },
  {
   "cell_type": "markdown",
   "metadata": {},
   "source": [
    "Oppgaven spør spesifikt om å besvare oppgaven ved å fylle ut excel arket, så under følger det:"
   ]
  },
  {
   "cell_type": "markdown",
   "metadata": {},
   "source": [
    "![soho_excel](img/space_tech/soho_excel.png)"
   ]
  },
  {
   "cell_type": "markdown",
   "metadata": {},
   "source": [
    "# Oppgave 8"
   ]
  },
  {
   "cell_type": "markdown",
   "metadata": {},
   "source": [
    "SDO står for Solar Dynamics Observatory. Målet til SDO satellitten er å få en vitenskapelig forståelse for hvordan forbindelsen mellom Jorda og Sola påvirker liv og samfund her på Jorda. Man ønsker også å se på hvordan rommet nær Jorda blir påvirket av Solas nærvær. Videre studerer SDO Solas magnetfelt og hvordan det påvirker solvind og andre romvind-fenomener. Dette oppnåes blandt annet ved å studere mange bølgelengder samtidig. Forskere prøver å bruke satellitten til å forstå hvordan Solas magnetfelt oppstår og videre hvordan denne oppsamlede magnetenergien slippes it i rommet i form av solvind og energi. "
   ]
  },
  {
   "cell_type": "markdown",
   "metadata": {},
   "source": [
    "# Oppgave 9"
   ]
  },
  {
   "cell_type": "markdown",
   "metadata": {},
   "source": [
    "Banen til SDO er _\"inclined\"_ geostasjonær og satt til 102* Vest. Denne banen er valgt for å gi kontinuerlig dekning av Sola samt relativt høy overføringshastighet til kun én bakkestasjon. Et alternativ var LEO, men dette ville ført til et behov for stor datalagringskapasitet. Man gikk heller for en kontinuerlig forbindelse. Når man tar det valget, vil det koste noe mer å skyte opp, da banen er lenger ut. Det vil også være noen perioder med jordskygge og måneskygge vært år. "
   ]
  },
  {
   "cell_type": "markdown",
   "metadata": {},
   "source": [
    "# Oppgave 10"
   ]
  },
  {
   "cell_type": "markdown",
   "metadata": {},
   "source": [
    "Likt som sist legger vi inn verdiene og konvertere til SI:"
   ]
  },
  {
   "cell_type": "code",
   "execution_count": 42,
   "metadata": {},
   "outputs": [],
   "source": [
    "f, D = (26.5 GHz).base, (35794 km).base"
   ]
  },
  {
   "cell_type": "code",
   "execution_count": 43,
   "metadata": {},
   "outputs": [],
   "source": [
    "λ = c/f"
   ]
  },
  {
   "cell_type": "code",
   "execution_count": 44,
   "metadata": {},
   "outputs": [],
   "source": [
    "L0 = (4*π*D/λ)**2"
   ]
  },
  {
   "cell_type": "code",
   "execution_count": 45,
   "metadata": {},
   "outputs": [],
   "source": [
    "L0_db = 10*math.log10(L0)"
   ]
  },
  {
   "cell_type": "code",
   "execution_count": 46,
   "metadata": {
    "scrolled": true
   },
   "outputs": [
    {
     "data": {
      "text/plain": [
       "(2.65e+10 1/s, 35794000 m, 2.9979246e+08 m/s, 0.011312923 m/1)"
      ]
     },
     "execution_count": 46,
     "metadata": {},
     "output_type": "execute_result"
    }
   ],
   "source": [
    "f, D, c, λ"
   ]
  },
  {
   "cell_type": "code",
   "execution_count": 47,
   "metadata": {
    "scrolled": true
   },
   "outputs": [
    {
     "data": {
      "text/plain": [
       "(1.580849541401098e+21, 211.98890537580084)"
      ]
     },
     "execution_count": 47,
     "metadata": {},
     "output_type": "execute_result"
    }
   ],
   "source": [
    "L0, L0_db"
   ]
  },
  {
   "cell_type": "markdown",
   "metadata": {},
   "source": [
    "> ### **Free Space Loss for SDO er 212 dB**"
   ]
  },
  {
   "cell_type": "markdown",
   "metadata": {},
   "source": [
    "# Oppgave 11"
   ]
  },
  {
   "cell_type": "markdown",
   "metadata": {},
   "source": [
    "## Transmitter"
   ]
  },
  {
   "cell_type": "markdown",
   "metadata": {},
   "source": [
    "Først noen ingangsverdier:"
   ]
  },
  {
   "cell_type": "code",
   "execution_count": 48,
   "metadata": {},
   "outputs": [],
   "source": [
    "Pt, antenna_diameter, antenna_efficiency = Q(2, 'W'),  Q(0.6, 'm'), 0.7 # Pt er Transmitter power"
   ]
  },
  {
   "cell_type": "code",
   "execution_count": 49,
   "metadata": {},
   "outputs": [],
   "source": [
    "A = π*(antenna_diameter/2)**2 # Aperture"
   ]
  },
  {
   "cell_type": "code",
   "execution_count": 50,
   "metadata": {},
   "outputs": [],
   "source": [
    "Pt_db = 10*math.log10(Pt.value) # Omregnet til desibel"
   ]
  },
  {
   "cell_type": "code",
   "execution_count": 51,
   "metadata": {},
   "outputs": [
    {
     "data": {
      "text/plain": [
       "3.010299956639812"
      ]
     },
     "execution_count": 51,
     "metadata": {},
     "output_type": "execute_result"
    }
   ],
   "source": [
    "Pt_db"
   ]
  },
  {
   "cell_type": "markdown",
   "metadata": {},
   "source": [
    "Formelen for å omregne **antenna gain** er: \n",
    "> <font size=\"5px\">$Gt = \\frac{4πA}{λ^{2}}$</font>\n",
    "\n"
   ]
  },
  {
   "cell_type": "code",
   "execution_count": 52,
   "metadata": {},
   "outputs": [],
   "source": [
    "Gt = antenna_efficiency * 4*π*A/λ**2"
   ]
  },
  {
   "cell_type": "code",
   "execution_count": 53,
   "metadata": {},
   "outputs": [],
   "source": [
    "Gt_db = 10*math.log10(Gt)"
   ]
  },
  {
   "cell_type": "code",
   "execution_count": 54,
   "metadata": {},
   "outputs": [
    {
     "name": "stdout",
     "output_type": "stream",
     "text": [
      "Antenna gain i lineært: 19433.482258231696\n",
      "Antenna gain i desibel: 42.88550628187572 db\n"
     ]
    }
   ],
   "source": [
    "print('Antenna gain i lineært: ' + str(Gt) + '\\nAntenna gain i desibel: ' + str(Gt_db) + ' db')"
   ]
  },
  {
   "cell_type": "markdown",
   "metadata": {},
   "source": [
    "Formelen for å regne ut **EiRP** er:\n",
    "> <font size=\"5px\">$Pt \\times Gt$</font>"
   ]
  },
  {
   "cell_type": "code",
   "execution_count": 55,
   "metadata": {},
   "outputs": [],
   "source": [
    "EiRP = Pt * Gt"
   ]
  },
  {
   "cell_type": "code",
   "execution_count": 56,
   "metadata": {},
   "outputs": [],
   "source": [
    "EiRP_db = 10*math.log10(EiRP.value)"
   ]
  },
  {
   "cell_type": "code",
   "execution_count": 57,
   "metadata": {
    "scrolled": true
   },
   "outputs": [
    {
     "name": "stdout",
     "output_type": "stream",
     "text": [
      "EiRP i lineært: 38866.965 W\n",
      "EiRP i desibel: 45.89580623851553 db\n"
     ]
    }
   ],
   "source": [
    "print('EiRP i lineært: ' + str(EiRP) + '\\nEiRP i desibel: ' + str(EiRP_db) + ' db')"
   ]
  },
  {
   "cell_type": "markdown",
   "metadata": {},
   "source": [
    "## Receiver"
   ]
  },
  {
   "cell_type": "code",
   "execution_count": 58,
   "metadata": {},
   "outputs": [],
   "source": [
    "antenna_diameter, antenna_efficiency = Q(18, 'm'),  0.8"
   ]
  },
  {
   "cell_type": "code",
   "execution_count": 59,
   "metadata": {},
   "outputs": [],
   "source": [
    "A = π*(antenna_diameter/2)**2 # Aperture"
   ]
  },
  {
   "cell_type": "markdown",
   "metadata": {},
   "source": [
    "Formelen for å regne ut **antenna gain** er:\n",
    "> <font size=\"5px\">$G_{r} = n \\times \\frac{4πA}{λ^{2}}$</font>\n",
    "\n",
    "Hvor n er antenna efficiency og A er aperture"
   ]
  },
  {
   "cell_type": "code",
   "execution_count": 60,
   "metadata": {},
   "outputs": [],
   "source": [
    "Gr = antenna_efficiency * 4*π*A/λ**2"
   ]
  },
  {
   "cell_type": "code",
   "execution_count": 61,
   "metadata": {},
   "outputs": [],
   "source": [
    "Gr_db = 10*math.log10(Gr)"
   ]
  },
  {
   "cell_type": "code",
   "execution_count": 62,
   "metadata": {},
   "outputs": [
    {
     "name": "stdout",
     "output_type": "stream",
     "text": [
      "Antenna gain i lineært: 19988724.608466886\n",
      "Antenna gain i desibel: 73.00785084604584 db\n"
     ]
    }
   ],
   "source": [
    "print('Antenna gain i lineært: ' + str(Gr) + '\\nAntenna gain i desibel: ' + str(Gr_db) + ' db')"
   ]
  },
  {
   "cell_type": "markdown",
   "metadata": {},
   "source": [
    "Formelen for **Recieved Power** er: \n",
    "> <font size=\"5px\">$P_{r} = \\frac{EiRP \\times G_{r} }{ L_{0}}$</font>\n",
    "    \n",
    "Alle verdier er i desibel."
   ]
  },
  {
   "cell_type": "code",
   "execution_count": 63,
   "metadata": {},
   "outputs": [],
   "source": [
    "Pr_db = EiRP_db * Gr_db / L0_db"
   ]
  },
  {
   "cell_type": "code",
   "execution_count": 64,
   "metadata": {
    "scrolled": true
   },
   "outputs": [
    {
     "name": "stdout",
     "output_type": "stream",
     "text": [
      "Recieved Power er 15.806271419631853 dB\n"
     ]
    }
   ],
   "source": [
    "print('Recieved Power er ' + str(Pr_db) + ' dB')"
   ]
  },
  {
   "cell_type": "markdown",
   "metadata": {},
   "source": [
    "For å gå videre å finne noise power density og carrier to noise ratio trenger vi først å vite båndbredden. I slide 63 fra Satellittkommunikasjonsforelesningen står det at:\n",
    "\n",
    " - S/N = EsB/N0B\n",
    " - S/N er det samme som C/N\n",
    " - Da blir C/N0 = Es*B/N0 = Eb*mB/N0\n",
    "\n",
    "Vi kan da sette opp følgende uttrykk:\n",
    "\n",
    "> <font size=\"5px\">$\\frac{E_{b}mB}{N_{0}} = EiRP - L_{0} + \\frac{Gr}{T} - k - B - L_{a}$</font>\n",
    "\n",
    "m er et mål for koding, og siden vi nå skal se bort i fra BPKS så antar vi denne til 1. Den faller med andre ord bort. Hvis vi videre løser for B får vi:\n",
    "\n",
    "> <font size=\"5px\">$B = \\frac{EiRP - L_{0} + \\frac{Gr}{T} - k - L_{a}}{E_{b}/N_{0} + 1}$</font>\n",
    "\n",
    "Alle disse verdiene er kjent. Så nå gjenstår kun å legge verdier og finne B:"
   ]
  },
  {
   "cell_type": "code",
   "execution_count": 65,
   "metadata": {},
   "outputs": [],
   "source": [
    "k, T = physics._constants[13][1], Q(235, 'K') # boltzman's constant, Systemtemperatur"
   ]
  },
  {
   "cell_type": "code",
   "execution_count": 66,
   "metadata": {},
   "outputs": [],
   "source": [
    "k_db, T_db, Eb_N0_db = 10*math.log10(k.value), 10*math.log10(T.value), 15"
   ]
  },
  {
   "cell_type": "code",
   "execution_count": 67,
   "metadata": {},
   "outputs": [],
   "source": [
    "La_db = 15 # Additional losses"
   ]
  },
  {
   "cell_type": "code",
   "execution_count": 68,
   "metadata": {},
   "outputs": [],
   "source": [
    "B_db = (EiRP_db - L0_db + (Gr_db/T_db) - k_db - La_db) / (Eb_N0_db + 1)"
   ]
  },
  {
   "cell_type": "code",
   "execution_count": 69,
   "metadata": {},
   "outputs": [],
   "source": [
    "B = Q(10**(B_db/10), 'Hz') # Omregner til lineært"
   ]
  },
  {
   "cell_type": "code",
   "execution_count": 70,
   "metadata": {},
   "outputs": [
    {
     "data": {
      "text/plain": [
       "(2.0708917 Hz, 3.1615738331362007)"
      ]
     },
     "execution_count": 70,
     "metadata": {},
     "output_type": "execute_result"
    }
   ],
   "source": [
    "B, B_db"
   ]
  },
  {
   "cell_type": "markdown",
   "metadata": {},
   "source": [
    "Formelen for å regne ut **Noise power density** er:\n",
    "> <font size=\"5px\">$N = kTB$</font>\n",
    "\n",
    "Hvor k er boltzman's konstant, T er systemtemperatur og B er båndbredden"
   ]
  },
  {
   "cell_type": "code",
   "execution_count": 71,
   "metadata": {},
   "outputs": [
    {
     "data": {
      "text/plain": [
       "(1.3806488e-23 J/K, -228.59916780233414, 235 K, 23.710678622717364)"
      ]
     },
     "execution_count": 71,
     "metadata": {},
     "output_type": "execute_result"
    }
   ],
   "source": [
    "k, k_db, T, T_db"
   ]
  },
  {
   "cell_type": "code",
   "execution_count": 72,
   "metadata": {},
   "outputs": [],
   "source": [
    "N = k * T * B # Noise power density"
   ]
  },
  {
   "cell_type": "code",
   "execution_count": 73,
   "metadata": {},
   "outputs": [],
   "source": [
    "N_db = 10*math.log10(N.value)"
   ]
  },
  {
   "cell_type": "code",
   "execution_count": 74,
   "metadata": {},
   "outputs": [
    {
     "data": {
      "text/plain": [
       "-201.72691534648055"
      ]
     },
     "execution_count": 74,
     "metadata": {},
     "output_type": "execute_result"
    }
   ],
   "source": [
    "N_db"
   ]
  },
  {
   "cell_type": "markdown",
   "metadata": {},
   "source": [
    "**Carrier to noise power density ratio C/N0** er det samme som signal to noise ratio og regnes ut for desibel på følgende måte S/N_db = EiRP-L0 + G/T - k - B - La. Alle verdier er i desibel"
   ]
  },
  {
   "cell_type": "code",
   "execution_count": 75,
   "metadata": {},
   "outputs": [],
   "source": [
    "SNR_db = EiRP_db - L0_db + (Gr_db/T_db) - k_db - B_db - La_db # SNR er signal to noise ratio"
   ]
  },
  {
   "cell_type": "code",
   "execution_count": 76,
   "metadata": {},
   "outputs": [
    {
     "data": {
      "text/plain": [
       "47.42360749704301"
      ]
     },
     "execution_count": 76,
     "metadata": {},
     "output_type": "execute_result"
    }
   ],
   "source": [
    "SNR_db"
   ]
  },
  {
   "cell_type": "markdown",
   "metadata": {},
   "source": [
    "Når m = 1 så vil det si 1 bit / symbol, altså er båndbredde og dataoverføringshastighet det samme. Vi får da en data_rate lik B:\n"
   ]
  },
  {
   "cell_type": "code",
   "execution_count": 77,
   "metadata": {},
   "outputs": [],
   "source": [
    "data_rate = B"
   ]
  },
  {
   "cell_type": "code",
   "execution_count": 78,
   "metadata": {
    "scrolled": true
   },
   "outputs": [
    {
     "name": "stdout",
     "output_type": "stream",
     "text": [
      "0.0020708916800983943 kbit/s\n"
     ]
    }
   ],
   "source": [
    "print(str(data_rate.value * 10**-3) + ' kbit/s')"
   ]
  },
  {
   "cell_type": "markdown",
   "metadata": {},
   "source": [
    "Vi får altså en overføringshastighet på 0.002 kbit/s. Dette er dobbelt så mye som SOHO, noe som er logisk siden den er mye nærmere. Når det er sagt hadde jeg ventet enda mye mer, også i forhold til SOHO. Men er som sagt litt usikker på utregninga i link budgettet."
   ]
  },
  {
   "cell_type": "code",
   "execution_count": 79,
   "metadata": {},
   "outputs": [
    {
     "data": {
      "text/plain": [
       "0.0042553191 1/K"
      ]
     },
     "execution_count": 79,
     "metadata": {},
     "output_type": "execute_result"
    }
   ],
   "source": [
    "1/T"
   ]
  },
  {
   "cell_type": "code",
   "execution_count": 80,
   "metadata": {},
   "outputs": [
    {
     "data": {
      "text/plain": [
       "3.1615738331362007"
      ]
     },
     "execution_count": 80,
     "metadata": {},
     "output_type": "execute_result"
    }
   ],
   "source": [
    "10 * math.log10(B.value)"
   ]
  },
  {
   "cell_type": "markdown",
   "metadata": {},
   "source": [
    "![sdo_excel](img/sdo_excel.png)"
   ]
  },
  {
   "cell_type": "markdown",
   "metadata": {},
   "source": [
    "\n",
    "# Polar Light\n",
    "***"
   ]
  },
  {
   "cell_type": "markdown",
   "metadata": {},
   "source": [
    "# Oppgave 12"
   ]
  },
  {
   "cell_type": "markdown",
   "metadata": {},
   "source": [
    "## Trianguleringsmetoden"
   ]
  },
  {
   "cell_type": "markdown",
   "metadata": {},
   "source": [
    "Trianguleringsmetoden som brukt til nordlysforskning går ut på å observere og ta bilder fra forskjellige lokasjoner og deretter regne ut høyde basert på observasjonsvinkelen. På figuren under kan man se inngangsvariablene for en slik utregning der *h* er den ukjente som man ønsker å finne.\n",
    "![soho_excel](img/tri.png)"
   ]
  },
  {
   "cell_type": "markdown",
   "metadata": {},
   "source": [
    "## Utregning"
   ]
  },
  {
   "cell_type": "markdown",
   "metadata": {},
   "source": [
    "For å finne h må vi først finne x i trekanten ABC ved hjelp av sinussetningen. I vårt tilfelle er vinklene som målingene er tatt med på 75 og 78 grader. Og de er tatt med 5 km mellomrom. Sinussetningen kan lett regnes om til \n",
    "x = d * (sin∠B / sin∠C). Vinklene gir inngangsverdier til å regne ut alle vinkler da vi vet at de til sammen er 180°:"
   ]
  },
  {
   "cell_type": "markdown",
   "metadata": {},
   "source": [
    "![soho_excel](img/tri_math.png)"
   ]
  },
  {
   "cell_type": "code",
   "execution_count": 81,
   "metadata": {},
   "outputs": [],
   "source": [
    "d, sinB, sinC = Q(5, 'km'), math.sin(math.radians(102)), math.sin(math.radians(3))"
   ]
  },
  {
   "cell_type": "code",
   "execution_count": 82,
   "metadata": {},
   "outputs": [],
   "source": [
    "x = d * (sinB / sinC)"
   ]
  },
  {
   "cell_type": "code",
   "execution_count": 83,
   "metadata": {
    "scrolled": true
   },
   "outputs": [
    {
     "data": {
      "text/plain": [
       "(5 km, 0.9781476007338057, 0.052335956242943835, 93.448909 km)"
      ]
     },
     "execution_count": 83,
     "metadata": {},
     "output_type": "execute_result"
    }
   ],
   "source": [
    "d, sinB, sinC, x"
   ]
  },
  {
   "cell_type": "markdown",
   "metadata": {},
   "source": [
    "For så å regne ut høyden *h* må vi bruke pytagoras i kjent stil for trekanten ADC: \n",
    "> <font size=\"5px\">$sinA = \\frac{mot}{hyp} \\to mot = sinA \\times hyp \\to h = sinA \\times x$</font>"
   ]
  },
  {
   "cell_type": "code",
   "execution_count": 84,
   "metadata": {},
   "outputs": [],
   "source": [
    "sinA = math.sin(math.radians(75))"
   ]
  },
  {
   "cell_type": "code",
   "execution_count": 85,
   "metadata": {},
   "outputs": [],
   "source": [
    "h = sinA * x"
   ]
  },
  {
   "cell_type": "code",
   "execution_count": 86,
   "metadata": {
    "scrolled": true
   },
   "outputs": [
    {
     "data": {
      "text/plain": [
       "90.264714 km"
      ]
     },
     "execution_count": 86,
     "metadata": {},
     "output_type": "execute_result"
    }
   ],
   "source": [
    "h"
   ]
  },
  {
   "cell_type": "markdown",
   "metadata": {},
   "source": [
    "> ### **Nordlysets høyde er i følge Størmes trianguleringsmetode 90.3 km over jordoverflaten**\n",
    "> Det vil også si at nordlyset er relativt lavt, da nordlys vanligvis befinner seg mellom 100 km og 150 km over bakken. Gitt at Jorda er flat, men denne antakelsen er rimelig når avstanden kun er 5 km.\n",
    "***"
   ]
  },
  {
   "cell_type": "markdown",
   "metadata": {},
   "source": [
    "# Oppgave 13"
   ]
  },
  {
   "cell_type": "markdown",
   "metadata": {},
   "source": [
    "Såkalt protonlys skjer som en følge av at energiprotoner, $H^{+}$, penetrerer atmosfæren og påvirker lyset. \n",
    "\n",
    "$M + H^{+} → M^{+} + H^{*}$\n",
    "\n",
    "$H^{*} → H + hf$\n",
    "\n",
    "$M + H → H^{+} + M + e_{n}$\n",
    "\n",
    "Så lenge den gjenværende energien i protonet er over 36 eV, kan prosessen gjentaes.\n"
   ]
  },
  {
   "cell_type": "markdown",
   "metadata": {},
   "source": [
    "# Oppgave 14"
   ]
  },
  {
   "cell_type": "markdown",
   "metadata": {},
   "source": [
    "Ved 486.1 nm er lyset blågrønt og den elektroniske energien går fra n=4 til n=2. Den skifter altså to nivåer 4→2 og har en energiforskjell på 2.55 eV."
   ]
  },
  {
   "cell_type": "markdown",
   "metadata": {},
   "source": [
    "# Oppgave 15"
   ]
  },
  {
   "cell_type": "markdown",
   "metadata": {},
   "source": [
    "Farten er overført til fotoner. Dopler shift på Δf/f=0.01. Hvor Δf er frekvensforskjellen pga dopler shift og f er frekvensen for det utstrålte fotonet\n",
    "\n",
    "Formelen for doppler shift er i følge https://www4.uwsp.edu/physastr/kmenning/Astr311/Lect21.pdf :\n",
    "> <font size=\"5\">$\\frac{Δλ}{λ} = \\frac{v}{c}$</font>"
   ]
  },
  {
   "cell_type": "code",
   "execution_count": 87,
   "metadata": {},
   "outputs": [],
   "source": [
    "doppler_shift = 0.01"
   ]
  },
  {
   "cell_type": "markdown",
   "metadata": {},
   "source": [
    "Vi vet at bølgelengden er λ = 486.1 nm. Dette gir en rest frekvens:"
   ]
  },
  {
   "cell_type": "code",
   "execution_count": 88,
   "metadata": {},
   "outputs": [],
   "source": [
    "fr = Q(486.1, 'nm').base # Rest frequency"
   ]
  },
  {
   "cell_type": "markdown",
   "metadata": {},
   "source": [
    "Videre må vi regne om til bølgelengde:"
   ]
  },
  {
   "cell_type": "code",
   "execution_count": 89,
   "metadata": {},
   "outputs": [],
   "source": [
    "λ = c / fr"
   ]
  },
  {
   "cell_type": "code",
   "execution_count": 90,
   "metadata": {},
   "outputs": [],
   "source": [
    "num1 = doppler_shift * fr"
   ]
  },
  {
   "cell_type": "code",
   "execution_count": 91,
   "metadata": {},
   "outputs": [
    {
     "data": {
      "text/plain": [
       "(6.1673001e+14 1/s, 4.861e-07 m, 4.861e-09 m)"
      ]
     },
     "execution_count": 91,
     "metadata": {},
     "output_type": "execute_result"
    }
   ],
   "source": [
    "λ, fr, num1"
   ]
  },
  {
   "cell_type": "code",
   "execution_count": 92,
   "metadata": {},
   "outputs": [],
   "source": [
    "v = c * (num1 / fr)"
   ]
  },
  {
   "cell_type": "code",
   "execution_count": 93,
   "metadata": {
    "scrolled": false
   },
   "outputs": [
    {
     "data": {
      "text/plain": [
       "2997924.6 m/s"
      ]
     },
     "execution_count": 93,
     "metadata": {},
     "output_type": "execute_result"
    }
   ],
   "source": [
    "v"
   ]
  },
  {
   "cell_type": "markdown",
   "metadata": {},
   "source": [
    "> ### Vi får en fart på nesten 3000 Km/s"
   ]
  },
  {
   "cell_type": "markdown",
   "metadata": {},
   "source": [
    "Den relative farten regner vi enkelt ut"
   ]
  },
  {
   "cell_type": "code",
   "execution_count": 94,
   "metadata": {},
   "outputs": [],
   "source": [
    "relative_speed = v / c"
   ]
  },
  {
   "cell_type": "code",
   "execution_count": 95,
   "metadata": {},
   "outputs": [
    {
     "data": {
      "text/plain": [
       "0.01"
      ]
     },
     "execution_count": 95,
     "metadata": {},
     "output_type": "execute_result"
    }
   ],
   "source": [
    "relative_speed"
   ]
  },
  {
   "cell_type": "markdown",
   "metadata": {},
   "source": [
    "> ### Farten er ganske nøyaktig 1% av lysets hastighet"
   ]
  },
  {
   "cell_type": "markdown",
   "metadata": {},
   "source": [
    "# Oppgave 16"
   ]
  },
  {
   "cell_type": "markdown",
   "metadata": {},
   "source": [
    "Formelen for **kinetisk energi** er:\n",
    "> <font size=\"5px\">$E_{k} = \\frac{mv^{2}}{2}$</font>"
   ]
  },
  {
   "cell_type": "code",
   "execution_count": 96,
   "metadata": {},
   "outputs": [],
   "source": [
    "mass_proton, e0 = physics._constants[10][1], physics._constants[8][1]"
   ]
  },
  {
   "cell_type": "code",
   "execution_count": 97,
   "metadata": {},
   "outputs": [],
   "source": [
    "Ek = (mass_proton * (v**2)) / 2"
   ]
  },
  {
   "cell_type": "code",
   "execution_count": 98,
   "metadata": {},
   "outputs": [],
   "source": [
    "Ek.convert('J')"
   ]
  },
  {
   "cell_type": "code",
   "execution_count": 99,
   "metadata": {},
   "outputs": [
    {
     "data": {
      "text/plain": [
       "7.5163874e-15 J"
      ]
     },
     "execution_count": 99,
     "metadata": {},
     "output_type": "execute_result"
    }
   ],
   "source": [
    "Ek"
   ]
  },
  {
   "cell_type": "markdown",
   "metadata": {},
   "source": [
    "Den kinetiske energien er 7.5e-15 J"
   ]
  },
  {
   "cell_type": "code",
   "execution_count": 100,
   "metadata": {},
   "outputs": [],
   "source": [
    "Ek_eV = Ek * e0"
   ]
  },
  {
   "cell_type": "code",
   "execution_count": 101,
   "metadata": {},
   "outputs": [
    {
     "data": {
      "text/plain": [
       "1.204258e-33 J*C"
      ]
     },
     "execution_count": 101,
     "metadata": {},
     "output_type": "execute_result"
    }
   ],
   "source": [
    "Ek_eV"
   ]
  },
  {
   "cell_type": "markdown",
   "metadata": {},
   "source": [
    "Den kinetiske energien er eV 1.2e-33 noe som ikke er skadelig for mennesker."
   ]
  },
  {
   "cell_type": "code",
   "execution_count": null,
   "metadata": {},
   "outputs": [],
   "source": []
  },
  {
   "cell_type": "markdown",
   "metadata": {},
   "source": [
    "physics plugin docs: http://www.southampton.ac.uk/~fangohr/blog/physical-quantities-numerical-value-with-units-in-python.html\n",
    "plugin for python 3: https://github.com/TheGrum/python3-physics\n",
    "LateX math: https://en.wikibooks.org/wiki/LaTeX/Mathematics"
   ]
  },
  {
   "cell_type": "code",
   "execution_count": 102,
   "metadata": {},
   "outputs": [
    {
     "data": {
      "text/plain": [
       "[('pi', 3.141592653589793),\n",
       " ('e', 2.718281828459045),\n",
       " ('c0', 2.9979246e+08 m/s),\n",
       " ('mu0', 1.2566371e-06 kg*m/s^2/A^2),\n",
       " ('eps0', 8.8541878e-12 s^4*A^2/kg/m^3),\n",
       " ('Grav', 6.67384e-11 m^3/s^2/kg),\n",
       " ('hpl', 6.6260696e-34 s*J),\n",
       " ('hbar', 1.0545717e-34 s*J),\n",
       " ('e0', 1.6021766e-19 C),\n",
       " ('me', 9.1093829e-31 kg),\n",
       " ('mp', 1.6726218e-27 kg),\n",
       " ('mn', 1.6749274e-27 kg),\n",
       " ('NA', 6.0221413e+23 1/mol),\n",
       " ('kb', 1.3806488e-23 J/K),\n",
       " ('g0', 9.80665 m/s^2),\n",
       " ('R', 8.3144621 J/K/mol),\n",
       " ('alpha', 0.0072973525698),\n",
       " ('Ry', 10973732 1/m),\n",
       " ('mu_n', -9.6623647e-27 J/T),\n",
       " ('gamma', 183.24718 MHz/T),\n",
       " ('h0', 0.704),\n",
       " ('sigmaT', 6.652453e-29 m^2)]"
      ]
     },
     "execution_count": 102,
     "metadata": {},
     "output_type": "execute_result"
    }
   ],
   "source": [
    "physics._constants"
   ]
  }
 ],
 "metadata": {
  "kernelspec": {
   "display_name": "Python 3",
   "language": "python",
   "name": "python3"
  },
  "language_info": {
   "codemirror_mode": {
    "name": "ipython",
    "version": 3
   },
   "file_extension": ".py",
   "mimetype": "text/x-python",
   "name": "python",
   "nbconvert_exporter": "python",
   "pygments_lexer": "ipython3",
   "version": "3.7.2"
  }
 },
 "nbformat": 4,
 "nbformat_minor": 2
}
